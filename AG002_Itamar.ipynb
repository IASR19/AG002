{
 "cells": [
  {
   "cell_type": "markdown",
   "id": "c93bcdec",
   "metadata": {
    "pycharm": {
     "name": "#%% md\n"
    }
   },
   "source": [
    "# Importação das bibliotecas"
   ]
  },
  {
   "cell_type": "code",
   "execution_count": null,
   "id": "31bffb1d",
   "metadata": {
    "pycharm": {
     "name": "#%%\n"
    }
   },
   "outputs": [],
   "source": [
    "from sklearn.tree import DecisionTreeClassifier\n",
    "from sklearn.model_selection import train_test_split\n",
    "from sklearn import metrics\n",
    "from sklearn.metrics import classification_report\n",
    "from sklearn.metrics import confusion_matrix\n",
    "from sklearn.metrics import cohen_kappa_score\n",
    "from sklearn.metrics import hamming_loss\n",
    "import pandas as pd\n",
    "import mysql.connector"
   ]
  },
  {
   "cell_type": "markdown",
   "id": "8b3bf69e",
   "metadata": {
    "pycharm": {
     "name": "#%% md\n"
    }
   },
   "source": [
    "# Conexão com o Banco de Dados"
   ]
  },
  {
   "cell_type": "code",
   "execution_count": null,
   "id": "43218251",
   "metadata": {
    "pycharm": {
     "name": "#%%\n"
    }
   },
   "outputs": [],
   "source": [
    "conector = mysql.connector.connect(host='localhost', database='statlog', user='root', password='igsr1908')\n",
    "\n",
    "if conector.is_connected():\n",
    "    db_info = conector.get_server_info()\n",
    "    print(\"Server MySQL versão: \", db_info)\n",
    "    \n",
    "    try:\n",
    "        cursor = conector.cursor()\n",
    "        cursor.execute(\"select database();\")\n",
    "        linha = cursor.fetchone()\n",
    "        print(\"Conectado ao banco de dados\", linha[0])\n",
    "    finally:\n",
    "        #Leitura dos dados do banco\n",
    "        dtFrame = pd.read_sql(\"SELECT * FROM germancredit\", conector)\n",
    "        pd.set_option('display.expand_frame_repr', False)\n",
    "        print(dtFrame.head())\n",
    "        cursor.close()\n",
    "        conector.close()"
   ]
  },
  {
   "cell_type": "markdown",
   "id": "4e49a65c",
   "metadata": {
    "pycharm": {
     "name": "#%% md\n"
    }
   },
   "source": [
    "# Dados"
   ]
  },
  {
   "cell_type": "code",
   "execution_count": null,
   "id": "c13e0bca",
   "metadata": {
    "pycharm": {
     "name": "#%%\n"
    }
   },
   "outputs": [],
   "source": [
    "#Tratamento dos dados vindos do banco\n",
    "cols = ['laufkont','laufzeit','moral','verw','hoehe','sparkont','beszeit','rate','famges','buerge',\n",
    "        'wohnzeit','verm','alter','weitkred','wohn','bishkred','beruf','pers', 'telef','gastarb', 'kredit']\n",
    "X = dtFrame.iloc[:,[1,2,3,4,5,6,7,8,9,10,11,12,13,14,15,16,17,18,19,20]].values\n",
    "y = dtFrame.iloc[:, [21]].values\n",
    "\n",
    "\n",
    "#Separação da porcentagem de dados para teste e treinamento da rede\n",
    "X_train, X_test, y_train, y_test = train_test_split(X, y, test_size=0.20, random_state=0)\n",
    "\n",
    "\n",
    "#Classificação através da Árvore de Decisão\n",
    "classifier = DecisionTreeClassifier()\n",
    "classifier.fit(X_train, y_train)\n",
    "\n",
    "\n",
    "#Medindo a acurácia do modelo com base nas métricas de avaliação\n",
    "y_predict = classifier.predict(X_test)\n",
    "\n",
    "print('Acuracy:', metrics.accuracy_score(y_test, y_predict))\n",
    "print(classification_report(y_test, y_predict))\n",
    "print(cohen_kappa_score(y_test, y_predict))\n",
    "print(hamming_loss(y_test, y_predict))\n",
    "print(metrics.fbeta_score(y_test, y_predict, beta=0.5))"
   ]
  },
  {
   "cell_type": "markdown",
   "id": "1c3732ac",
   "metadata": {
    "pycharm": {
     "name": "#%% md\n"
    }
   },
   "source": [
    "# Data Insert"
   ]
  },
  {
   "cell_type": "code",
   "execution_count": null,
   "id": "ca456761",
   "metadata": {
    "pycharm": {
     "name": "#%%\n"
    }
   },
   "outputs": [],
   "source": [
    "#Entrada de dados do usuário para avaliação de crédito\n",
    "print('\\nEntre com os dados solicitados abaixo: ')\n",
    "\n",
    "while True: #laufkont = qualificacao\n",
    "    qualificacao = int(input('qualificacao: '))\n",
    "    if (qualificacao >= 1 and qualificacao <= 4):\n",
    "        break\n",
    "\n",
    "while True: #laufzeit = tempo\n",
    "    tempo = int(input('tempo: '))\n",
    "    if (tempo > 0):\n",
    "        break\n",
    "\n",
    "while True: #moral = historico\n",
    "    historico = int(input('Historico de curso: '))\n",
    "    if (historico >= 0 and historico <= 4):\n",
    "        break\n",
    "\n",
    "while True: #verw = vaga\n",
    "    vaga = int(input('Vaga: '))\n",
    "    if (vaga >= 0 and vaga <= 10):\n",
    "        break\n",
    "\n",
    "while True: #hoehe = salario\n",
    "    salario = int(input('Salário esperado: '))\n",
    "    if (salario > 0):\n",
    "        break\n",
    "\n",
    "while True: #sparkont = experiencia\n",
    "    experiencia = int(input('Experiencia: '))\n",
    "    if (experiencia >= 1 and experiencia <= 5):\n",
    "        break\n",
    "\n",
    "while True: #beszeit = tempo_trabalho\n",
    "    tempo_trabalho = int(input('tempo de trabalho: '))\n",
    "    if (tempo_trabalhov >= 1 and tempo_trabalho <= 5):\n",
    "        break\n",
    "\n",
    "while True: #rate = registro\n",
    "    registro = int(input('Tempo de Registro: '))\n",
    "    if (registro >= 1 and registro <= 4):\n",
    "        break\n",
    "\n",
    "while True: #famges = sex\n",
    "   sex = int(input('sexo: 1-M, 2-F, 3-OTHERS, 4-N/A'))\n",
    "    if (sex >= 1 and sex <= 4):\n",
    "        break\n",
    "\n",
    "while True: #buerge = empresas_ano\n",
    "    empresas_ano = int(input('Trabalhos no ultimo ano: '))\n",
    "    if (empresas_ano >= 1 and empresas_ano <= 3):\n",
    "        break\n",
    "\n",
    "while True: #wohnzeit = tempo_trabalho\n",
    "    tempo_trabalho = int(input('Tempo de trabalho serviço anterior: '))\n",
    "    if (tempo_trabalho >= 1 and tempo_trabalho <= 4):\n",
    "        break\n",
    "\n",
    "while True: #verm = local\n",
    "    local = int(input('Locais do tempo = '))\n",
    "    if (verm >= 1 and verm <= 4):\n",
    "        break\n",
    "\n",
    "while True: #alter = idade\n",
    "    idade = int(input('Idade: '))\n",
    "    if (idade >= 16): \n",
    "        break\n",
    "\n",
    "while True: #weitkred = place\n",
    "    place = int(input('Local: 1 presencial, 2 home-office, 3 híbrido'))\n",
    "    if (place >= 1 and place <= 3):\n",
    "        break\n",
    "\n",
    "while True: #wohn = filhos\n",
    "    filhos = int(input('Filhos? 1 SIM, 2 NAO, 3 AGREGADOS'))\n",
    "    if (filhos >= 1 and filhos <= 3):\n",
    "        break\n",
    "\n",
    "while True: #bishkred = Graduacoes\n",
    "    Graduacoes = int(input('Graduacoes: '))\n",
    "    if (Graduacoes >= 1 and Graduacoes <= 4):\n",
    "        break\n",
    "\n",
    "while True: #beruf = Pos\n",
    "    pos = int(input('Pos e mestrados: '))\n",
    "    if (job >= 1 and job <= 4):\n",
    "        break\n",
    "\n",
    "while True: #pers = civil\n",
    "    civil = int(input('CASADO 1-SIM, 2-NAO'))\n",
    "    if (civil == 1 or civil == 2):\n",
    "        break\n",
    "\n",
    "while True: #telef = telefone\n",
    "    telefone = int(input('Telefone: '))\n",
    "    if (telefone == 1 or telefone == 2):\n",
    "        break\n",
    "\n",
    "while True: #gastarb = brasil\n",
    "    brasil = int(input('Brasileiro? 1-SIM, 2-NAO'))\n",
    "    if (brasil == 1 or brasil == 2):\n",
    "        break\n",
    "\n",
    "\n",
    "#Inserindo os valores passados pelo usuario para realizar a predicao\n",
    "X_input = [[qualificacao, tempo, historico, vaga, salario, experiencia, tempo_trabalho,\n",
    "            registro, sex, empresas_ano, tempo_trabalho,\n",
    "            local, idade, place, filhos, Graduacoes, pos,\n",
    "            civil, telefone, brasil]]\n",
    "\n",
    "\n",
    "if classifier.predict(X_input) == 1:\n",
    "    print('Alta expectativa de emprego')\n",
    "if classifier.predict(X_input) == 0:\n",
    "    print('Baixa expectativa de emprego')"
   ]
  }
 ],
 "metadata": {
  "kernelspec": {
   "display_name": "Python 3 (ipykernel)",
   "language": "python",
   "name": "python3"
  },
  "language_info": {
   "codemirror_mode": {
    "name": "ipython",
    "version": 3
   },
   "file_extension": ".py",
   "mimetype": "text/x-python",
   "name": "python",
   "nbconvert_exporter": "python",
   "pygments_lexer": "ipython3",
   "version": "3.10.6"
  }
 },
 "nbformat": 4,
 "nbformat_minor": 5
}